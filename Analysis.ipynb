{
  "nbformat": 4,
  "nbformat_minor": 0,
  "metadata": {
    "colab": {
      "name": "SDE_PROJECT.ipynb",
      "provenance": [],
      "collapsed_sections": []
    },
    "kernelspec": {
      "name": "python3",
      "display_name": "Python 3"
    },
    "language_info": {
      "name": "python"
    }
  },
  "cells": [
    {
      "cell_type": "code",
      "execution_count": 127,
      "metadata": {
        "id": "VHSytU4cWnsU"
      },
      "outputs": [],
      "source": [
        "import pandas as pd\n",
        "import numpy as np\n",
        "from sklearn.metrics import confusion_matrix\n",
        "import matplotlib.pyplot as plt\n",
        "import numpy as np\n",
        "import itertools"
      ]
    },
    {
      "cell_type": "code",
      "source": [
        "# Global\n",
        "count = 10\n",
        "length = 15\n",
        "breadth = int(length*(3/5))"
      ],
      "metadata": {
        "id": "Eyqvl24Om37O"
      },
      "execution_count": 128,
      "outputs": []
    },
    {
      "cell_type": "code",
      "source": [
        "filepath = \"/content/SDE - Sheet4.csv\"\n",
        "df = pd.read_csv(filepath)"
      ],
      "metadata": {
        "id": "lVSdCResW5lK"
      },
      "execution_count": 129,
      "outputs": []
    },
    {
      "cell_type": "code",
      "source": [
        "column_1 = df.iloc[:,0]"
      ],
      "metadata": {
        "id": "riBFDAvWXozV"
      },
      "execution_count": 130,
      "outputs": []
    },
    {
      "cell_type": "code",
      "source": [
        "new_array = []\n",
        "categ = []\n",
        "for i in range(len(column_1)):\n",
        "  num = column_1[i][1:4]\n",
        "  cat = column_1[i][6:]\n",
        "  new_array.append(num)\n",
        "  categ.append(cat)"
      ],
      "metadata": {
        "id": "WPAuGvqbXIn6"
      },
      "execution_count": 131,
      "outputs": []
    },
    {
      "cell_type": "code",
      "source": [
        "print(categ)"
      ],
      "metadata": {
        "colab": {
          "base_uri": "https://localhost:8080/"
        },
        "id": "LoKCiFr7lwa0",
        "outputId": "04ac6c52-a238-4a9c-bf36-f7fef9a4aab1"
      },
      "execution_count": 132,
      "outputs": [
        {
          "output_type": "stream",
          "name": "stdout",
          "text": [
            "['Shape/size error', 'Datatype/format error', 'Shape/size error', 'Shape/size error', 'Shape/size error', 'Others', 'Speed issue', 'Speed issue', 'Memory issue', 'Unexpected result', 'Unexpected result', 'Unexpected result', 'Speed issue', 'Shape/size error', 'Shape/size error', 'Shape/size error', 'Shape/size error', 'Speed issue', 'Unexpected result', 'Memory issue', 'Unexpected result', 'Unexpected result', 'Memory issue', 'Others', 'Others', 'Unexpected result', 'Memory issue', 'Shape/size error', 'Unexpected result', 'Speed issue', 'Speed issue', 'Others', 'Datatype/format error', 'Unexpected result', 'Others', 'Memory issue', 'Unexpected result', 'Unexpected result', 'Others', 'Others', 'Unexpected result', 'Memory issue', 'Unexpected result', 'Shape/size error', 'Unexpected result', 'Unexpected result', 'Memory issue', 'Memory issue', 'Memory issue', 'Speed issue', 'Others', 'Shape/size error', 'Unexpected result', 'Datatype/format error', 'Unexpected result', 'Shape/size error', 'Shape/size error', 'Others', 'Unexpected result', 'Shape/size error', 'Unexpected result', 'Unexpected result', 'Unexpected result', 'Unexpected result', 'Unexpected result', 'Unexpected result', 'Unexpected result', 'Unexpected result', 'Speed issue', 'Datatype/format error', 'Memory issue', 'Unexpected result', 'Unexpected result', 'Unexpected result', 'Shape/size error', 'Unexpected result', 'Speed issue', 'Speed issue', 'Speed issue', 'Speed issue', 'Unexpected result', 'Others', 'Shape/size error', 'Datatype/format error', 'Shape/size error', 'Memory issue', 'Speed issue', 'Others', 'Unexpected result', 'Shape/size error', 'Shape/size error', 'Others', 'Speed issue', 'Unexpected result', 'Unexpected result', 'Others', 'Unexpected result', 'Shape/size error', 'Others', 'Unexpected result', 'Unexpected result', 'Memory issue', 'Speed issue', 'Speed issue', 'Shape/size error', 'Unexpected result', 'Unexpected result', 'Unexpected result', 'Shape/size error', 'Shape/size error', 'Shape/size error', 'Shape/size error', 'Shape/size error', 'Unexpected result', 'Unexpected result', 'Shape/size error', 'Unexpected result', 'Speed issue', 'Speed issue', 'Speed issue', 'Datatype/format error', 'Shape/size error', 'Shape/size error', 'Unexpected result']\n"
          ]
        }
      ]
    },
    {
      "cell_type": "code",
      "source": [
        "for i in set(categ):\n",
        "  print(i, categ.count(i))"
      ],
      "metadata": {
        "colab": {
          "base_uri": "https://localhost:8080/"
        },
        "id": "GWib2-3glkt3",
        "outputId": "9ddeb0d1-2628-4b6d-eb00-37647322cfc7"
      },
      "execution_count": 133,
      "outputs": [
        {
          "output_type": "stream",
          "name": "stdout",
          "text": [
            "Shape/size error 29\n",
            "Speed issue 19\n",
            "Memory issue 12\n",
            "Unexpected result 44\n",
            "Datatype/format error 6\n",
            "Others 14\n"
          ]
        }
      ]
    },
    {
      "cell_type": "code",
      "source": [
        "new_df = pd.DataFrame({\"Category\": new_array, \"Fix\": df.iloc[:,1]})\n",
        "new_df[:5]"
      ],
      "metadata": {
        "colab": {
          "base_uri": "https://localhost:8080/",
          "height": 206
        },
        "id": "CE4wSLUuYHDn",
        "outputId": "cf90208a-f942-4490-8e0b-524210bfa053"
      },
      "execution_count": 134,
      "outputs": [
        {
          "output_type": "execute_result",
          "data": {
            "text/plain": [
              "  Category                                Fix\n",
              "0      D.1              Repair original model\n",
              "1      D.2          Fix shape of input/output\n",
              "2      D.1                       Use CPU only\n",
              "3      D.1  Fix framework installment/version\n",
              "4      D.1          Fix shape of input/output"
            ],
            "text/html": [
              "\n",
              "  <div id=\"df-4b518232-e478-4c14-ab01-b7533557d3ba\">\n",
              "    <div class=\"colab-df-container\">\n",
              "      <div>\n",
              "<style scoped>\n",
              "    .dataframe tbody tr th:only-of-type {\n",
              "        vertical-align: middle;\n",
              "    }\n",
              "\n",
              "    .dataframe tbody tr th {\n",
              "        vertical-align: top;\n",
              "    }\n",
              "\n",
              "    .dataframe thead th {\n",
              "        text-align: right;\n",
              "    }\n",
              "</style>\n",
              "<table border=\"1\" class=\"dataframe\">\n",
              "  <thead>\n",
              "    <tr style=\"text-align: right;\">\n",
              "      <th></th>\n",
              "      <th>Category</th>\n",
              "      <th>Fix</th>\n",
              "    </tr>\n",
              "  </thead>\n",
              "  <tbody>\n",
              "    <tr>\n",
              "      <th>0</th>\n",
              "      <td>D.1</td>\n",
              "      <td>Repair original model</td>\n",
              "    </tr>\n",
              "    <tr>\n",
              "      <th>1</th>\n",
              "      <td>D.2</td>\n",
              "      <td>Fix shape of input/output</td>\n",
              "    </tr>\n",
              "    <tr>\n",
              "      <th>2</th>\n",
              "      <td>D.1</td>\n",
              "      <td>Use CPU only</td>\n",
              "    </tr>\n",
              "    <tr>\n",
              "      <th>3</th>\n",
              "      <td>D.1</td>\n",
              "      <td>Fix framework installment/version</td>\n",
              "    </tr>\n",
              "    <tr>\n",
              "      <th>4</th>\n",
              "      <td>D.1</td>\n",
              "      <td>Fix shape of input/output</td>\n",
              "    </tr>\n",
              "  </tbody>\n",
              "</table>\n",
              "</div>\n",
              "      <button class=\"colab-df-convert\" onclick=\"convertToInteractive('df-4b518232-e478-4c14-ab01-b7533557d3ba')\"\n",
              "              title=\"Convert this dataframe to an interactive table.\"\n",
              "              style=\"display:none;\">\n",
              "        \n",
              "  <svg xmlns=\"http://www.w3.org/2000/svg\" height=\"24px\"viewBox=\"0 0 24 24\"\n",
              "       width=\"24px\">\n",
              "    <path d=\"M0 0h24v24H0V0z\" fill=\"none\"/>\n",
              "    <path d=\"M18.56 5.44l.94 2.06.94-2.06 2.06-.94-2.06-.94-.94-2.06-.94 2.06-2.06.94zm-11 1L8.5 8.5l.94-2.06 2.06-.94-2.06-.94L8.5 2.5l-.94 2.06-2.06.94zm10 10l.94 2.06.94-2.06 2.06-.94-2.06-.94-.94-2.06-.94 2.06-2.06.94z\"/><path d=\"M17.41 7.96l-1.37-1.37c-.4-.4-.92-.59-1.43-.59-.52 0-1.04.2-1.43.59L10.3 9.45l-7.72 7.72c-.78.78-.78 2.05 0 2.83L4 21.41c.39.39.9.59 1.41.59.51 0 1.02-.2 1.41-.59l7.78-7.78 2.81-2.81c.8-.78.8-2.07 0-2.86zM5.41 20L4 18.59l7.72-7.72 1.47 1.35L5.41 20z\"/>\n",
              "  </svg>\n",
              "      </button>\n",
              "      \n",
              "  <style>\n",
              "    .colab-df-container {\n",
              "      display:flex;\n",
              "      flex-wrap:wrap;\n",
              "      gap: 12px;\n",
              "    }\n",
              "\n",
              "    .colab-df-convert {\n",
              "      background-color: #E8F0FE;\n",
              "      border: none;\n",
              "      border-radius: 50%;\n",
              "      cursor: pointer;\n",
              "      display: none;\n",
              "      fill: #1967D2;\n",
              "      height: 32px;\n",
              "      padding: 0 0 0 0;\n",
              "      width: 32px;\n",
              "    }\n",
              "\n",
              "    .colab-df-convert:hover {\n",
              "      background-color: #E2EBFA;\n",
              "      box-shadow: 0px 1px 2px rgba(60, 64, 67, 0.3), 0px 1px 3px 1px rgba(60, 64, 67, 0.15);\n",
              "      fill: #174EA6;\n",
              "    }\n",
              "\n",
              "    [theme=dark] .colab-df-convert {\n",
              "      background-color: #3B4455;\n",
              "      fill: #D2E3FC;\n",
              "    }\n",
              "\n",
              "    [theme=dark] .colab-df-convert:hover {\n",
              "      background-color: #434B5C;\n",
              "      box-shadow: 0px 1px 3px 1px rgba(0, 0, 0, 0.15);\n",
              "      filter: drop-shadow(0px 1px 2px rgba(0, 0, 0, 0.3));\n",
              "      fill: #FFFFFF;\n",
              "    }\n",
              "  </style>\n",
              "\n",
              "      <script>\n",
              "        const buttonEl =\n",
              "          document.querySelector('#df-4b518232-e478-4c14-ab01-b7533557d3ba button.colab-df-convert');\n",
              "        buttonEl.style.display =\n",
              "          google.colab.kernel.accessAllowed ? 'block' : 'none';\n",
              "\n",
              "        async function convertToInteractive(key) {\n",
              "          const element = document.querySelector('#df-4b518232-e478-4c14-ab01-b7533557d3ba');\n",
              "          const dataTable =\n",
              "            await google.colab.kernel.invokeFunction('convertToInteractive',\n",
              "                                                     [key], {});\n",
              "          if (!dataTable) return;\n",
              "\n",
              "          const docLinkHtml = 'Like what you see? Visit the ' +\n",
              "            '<a target=\"_blank\" href=https://colab.research.google.com/notebooks/data_table.ipynb>data table notebook</a>'\n",
              "            + ' to learn more about interactive tables.';\n",
              "          element.innerHTML = '';\n",
              "          dataTable['output_type'] = 'display_data';\n",
              "          await google.colab.output.renderOutput(dataTable, element);\n",
              "          const docLink = document.createElement('div');\n",
              "          docLink.innerHTML = docLinkHtml;\n",
              "          element.appendChild(docLink);\n",
              "        }\n",
              "      </script>\n",
              "    </div>\n",
              "  </div>\n",
              "  "
            ]
          },
          "metadata": {},
          "execution_count": 134
        }
      ]
    },
    {
      "cell_type": "code",
      "source": [
        "# new_df.to_csv(\"arvind_sde.csv\", index=False)"
      ],
      "metadata": {
        "id": "VOPPZZO7YbsV"
      },
      "execution_count": 135,
      "outputs": []
    },
    {
      "cell_type": "code",
      "source": [
        "column_1 = new_df.iloc[:,0]\n",
        "column_2 = new_df.iloc[:,1]"
      ],
      "metadata": {
        "id": "9OO3-B6LYndZ"
      },
      "execution_count": 136,
      "outputs": []
    },
    {
      "cell_type": "code",
      "source": [
        "L = len(set(column_1))\n",
        "column_1[:3]"
      ],
      "metadata": {
        "id": "6SOoXqCuZxrH",
        "colab": {
          "base_uri": "https://localhost:8080/"
        },
        "outputId": "af3f981b-14ae-4269-dfbb-544fe878c93b"
      },
      "execution_count": 137,
      "outputs": [
        {
          "output_type": "execute_result",
          "data": {
            "text/plain": [
              "0    D.1\n",
              "1    D.2\n",
              "2    D.1\n",
              "Name: Category, dtype: object"
            ]
          },
          "metadata": {},
          "execution_count": 137
        }
      ]
    },
    {
      "cell_type": "code",
      "source": [
        "letter = 'c'\n",
        "overall_arr = []\n",
        "for x in set(column_2):\n",
        "  arr = [0]*L\n",
        "  for i in range(len(column_2)):\n",
        "    if(new_df.iloc[:,1][i] == x):\n",
        "      index = int(new_df.iloc[:,0][i][-1])\n",
        "      letter = new_df.iloc[:,0][i][-3]\n",
        "      arr[index-1] += 1\n",
        "  overall_arr.append([arr, x])"
      ],
      "metadata": {
        "id": "G7E7ksfAZWSU"
      },
      "execution_count": 138,
      "outputs": []
    },
    {
      "cell_type": "code",
      "source": [
        "labels = list(set(column_2))\n",
        "sum_array = []\n",
        "for i in range(len(overall_arr)):\n",
        "  sum_array.append([sum(overall_arr[i][0]), labels[i]])"
      ],
      "metadata": {
        "id": "oCZTpnVpei-R"
      },
      "execution_count": 139,
      "outputs": []
    },
    {
      "cell_type": "code",
      "source": [
        "sum_array"
      ],
      "metadata": {
        "colab": {
          "base_uri": "https://localhost:8080/"
        },
        "id": "D0g-QNujfuuy",
        "outputId": "5c740d3e-6dad-4f41-e30e-d214fea81eba"
      },
      "execution_count": 140,
      "outputs": [
        {
          "output_type": "execute_result",
          "data": {
            "text/plain": [
              "[[3, 'Fix tensor shape/size specification'],\n",
              " [1, 'Avoid overheating'],\n",
              " [24, 'Fix data pre-processing'],\n",
              " [8, 'Fix framework installment/version'],\n",
              " [9, 'Fix/use quantization'],\n",
              " [2, 'Fix conversion API/CLI usage'],\n",
              " [20, 'Fix shape of input/output'],\n",
              " [6, 'Fix data post-processing'],\n",
              " [5, 'GPU delegate'],\n",
              " [7, 'Fix API usage during DL integration'],\n",
              " [1, 'Clean dependency cache'],\n",
              " [1, 'Fix IDE setting'],\n",
              " [2, 'Fix file path during DL integration'],\n",
              " [4, 'Fix specification of input/output'],\n",
              " [14, 'Repair original model'],\n",
              " [4, 'Fix thread management'],\n",
              " [6, 'Fix memory management'],\n",
              " [3, 'Fix datatype of input/output'],\n",
              " [1, 'NNAPI delegate'],\n",
              " [3, 'Use CPU only']]"
            ]
          },
          "metadata": {},
          "execution_count": 140
        }
      ]
    },
    {
      "cell_type": "code",
      "source": [
        "sum_array_new = sorted(sum_array)\n",
        "final_array = [x[1] for x in sum_array_new[-count:]]"
      ],
      "metadata": {
        "id": "kGjcB6Ice4SV"
      },
      "execution_count": 141,
      "outputs": []
    },
    {
      "cell_type": "code",
      "source": [
        "final_array"
      ],
      "metadata": {
        "colab": {
          "base_uri": "https://localhost:8080/"
        },
        "id": "rCpkLsIkf3mu",
        "outputId": "08af391f-d087-44a0-a881-15cd73cb038c"
      },
      "execution_count": 142,
      "outputs": [
        {
          "output_type": "execute_result",
          "data": {
            "text/plain": [
              "['Fix thread management',\n",
              " 'GPU delegate',\n",
              " 'Fix data post-processing',\n",
              " 'Fix memory management',\n",
              " 'Fix API usage during DL integration',\n",
              " 'Fix framework installment/version',\n",
              " 'Fix/use quantization',\n",
              " 'Repair original model',\n",
              " 'Fix shape of input/output',\n",
              " 'Fix data pre-processing']"
            ]
          },
          "metadata": {},
          "execution_count": 142
        }
      ]
    },
    {
      "cell_type": "code",
      "source": [
        "sum_array_new"
      ],
      "metadata": {
        "colab": {
          "base_uri": "https://localhost:8080/"
        },
        "id": "aXG00PIChzR9",
        "outputId": "eea10ad1-2287-4f55-eec8-f26cf6f81561"
      },
      "execution_count": 143,
      "outputs": [
        {
          "output_type": "execute_result",
          "data": {
            "text/plain": [
              "[[1, 'Avoid overheating'],\n",
              " [1, 'Clean dependency cache'],\n",
              " [1, 'Fix IDE setting'],\n",
              " [1, 'NNAPI delegate'],\n",
              " [2, 'Fix conversion API/CLI usage'],\n",
              " [2, 'Fix file path during DL integration'],\n",
              " [3, 'Fix datatype of input/output'],\n",
              " [3, 'Fix tensor shape/size specification'],\n",
              " [3, 'Use CPU only'],\n",
              " [4, 'Fix specification of input/output'],\n",
              " [4, 'Fix thread management'],\n",
              " [5, 'GPU delegate'],\n",
              " [6, 'Fix data post-processing'],\n",
              " [6, 'Fix memory management'],\n",
              " [7, 'Fix API usage during DL integration'],\n",
              " [8, 'Fix framework installment/version'],\n",
              " [9, 'Fix/use quantization'],\n",
              " [14, 'Repair original model'],\n",
              " [20, 'Fix shape of input/output'],\n",
              " [24, 'Fix data pre-processing']]"
            ]
          },
          "metadata": {},
          "execution_count": 143
        }
      ]
    },
    {
      "cell_type": "code",
      "source": [
        "overall_arr_new = []\n",
        "labels_new = []\n",
        "for x in final_array:\n",
        "  for y in range(len(overall_arr)):\n",
        "    if(overall_arr[y][1] == x):\n",
        "      z = overall_arr[y]\n",
        "      overall_arr_new.append(z[0])\n",
        "      labels_new.append(z[1]+ \" (\" +str(sum(z[0])) + \")\")\n",
        "\n",
        "\n",
        "overall_arr_new"
      ],
      "metadata": {
        "colab": {
          "base_uri": "https://localhost:8080/"
        },
        "id": "a1458aGYgo_P",
        "outputId": "46ff871e-b5e5-45bc-bea4-1af817f8bf3f"
      },
      "execution_count": 144,
      "outputs": [
        {
          "output_type": "execute_result",
          "data": {
            "text/plain": [
              "[[0, 0, 0, 0, 4, 0],\n",
              " [0, 0, 0, 0, 5, 0],\n",
              " [0, 0, 6, 0, 0, 0],\n",
              " [0, 0, 0, 5, 0, 1],\n",
              " [0, 0, 3, 2, 0, 2],\n",
              " [2, 0, 3, 2, 0, 1],\n",
              " [0, 0, 3, 0, 5, 1],\n",
              " [6, 0, 5, 0, 2, 1],\n",
              " [17, 2, 1, 0, 0, 0],\n",
              " [1, 2, 17, 0, 1, 3]]"
            ]
          },
          "metadata": {},
          "execution_count": 144
        }
      ]
    },
    {
      "cell_type": "code",
      "source": [
        "def plot_confusion_matrix(cm,x_axis_names, y_axis_names,title='Confusion matrix',cmap=None,normalize=True):\n",
        "\n",
        "    accuracy = np.trace(cm) / float(np.sum(cm))\n",
        "    misclass = 1 - accuracy\n",
        "\n",
        "    if cmap is None:\n",
        "        cmap = plt.get_cmap('Blues')\n",
        "\n",
        "    plt.figure(figsize=(length, breadth))\n",
        "    plt.imshow(cm, interpolation='nearest', cmap=cmap)\n",
        "    plt.title(title)\n",
        "    plt.colorbar()\n",
        "\n",
        "    if x_axis_names is not None:\n",
        "        tick_marks_x = np.arange(len(x_axis_names))\n",
        "        plt.xticks(tick_marks_x, x_axis_names)\n",
        "    if y_axis_names is not None:\n",
        "        tick_marks_y = np.arange(len(y_axis_names))\n",
        "        plt.yticks(tick_marks_y, y_axis_names)\n",
        "\n",
        "    plt.tight_layout()\n",
        "    plt.show()"
      ],
      "metadata": {
        "id": "WguSNVbhaz-P"
      },
      "execution_count": 145,
      "outputs": []
    },
    {
      "cell_type": "code",
      "source": [
        "x_axis = []\n",
        "for i in range(L):\n",
        "  temp_str = letter + \".\" + str(i+1)\n",
        "  x_axis.append(temp_str)"
      ],
      "metadata": {
        "id": "fGuf_5V7bnBZ"
      },
      "execution_count": 146,
      "outputs": []
    },
    {
      "cell_type": "code",
      "source": [
        "plot_confusion_matrix(cm = np.array(overall_arr_new), normalize = False, x_axis_names = x_axis, y_axis_names = labels_new,title = \"Model Conversion Distribution\")"
      ],
      "metadata": {
        "colab": {
          "base_uri": "https://localhost:8080/",
          "height": 657
        },
        "id": "4h0S1fCqa_Lz",
        "outputId": "af36f838-0e86-4e79-9124-75e97f866cbb"
      },
      "execution_count": 147,
      "outputs": [
        {
          "output_type": "display_data",
          "data": {
            "text/plain": [
              "<Figure size 1080x648 with 2 Axes>"
            ],
            "image/png": "[encoded data removed]"
          },
          "metadata": {
            "needs_background": "light"
          }
        }
      ]
    }
  ]
}